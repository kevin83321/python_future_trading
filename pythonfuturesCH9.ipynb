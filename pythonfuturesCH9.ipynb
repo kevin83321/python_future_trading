{
 "cells": [
  {
   "cell_type": "markdown",
   "metadata": {},
   "source": [
    "# Chapter09 連接券商的即時報價與下單函數"
   ]
  },
  {
   "cell_type": "markdown",
   "metadata": {},
   "source": [
    "# 103~110 完整下單函數介紹"
   ]
  },
  {
   "cell_type": "code",
   "execution_count": null,
   "metadata": {},
   "outputs": [],
   "source": [
    "#103 order\n",
    "# -*- coding: UTF-8 -*-\n",
    "#載入相關套件\n",
    "import subprocess\n",
    "\n",
    "#下單子程式放置位置\n",
    "ExecPath=\"./bin/\"\n",
    "\n",
    "#市價單下單\n",
    "def OrderMKT(Product,BS,Qty):\n",
    " OrderNo=subprocess.check_output([ExecPath+\"order.exe\",Product,BS,\"0\",Qty,\"MKT\",\"IOC\",\"0\"]).strip('\\r\\n')\n",
    " while True:\n",
    "  ReturnInfo=subprocess.check_output([ExecPath+\"GetAccount.exe\",OrderNo]).strip('\\r\\n').split(',')\n",
    "  if len(ReturnInfo)>1:\n",
    "   return ReturnInfo\n",
    "\n",
    "#限價單委託\n",
    "def OrderLMT(Product,BS,Price,Qty):\n",
    " OrderNo=subprocess.check_output([ExecPath+\"order.exe\",Product,BS,Price,Qty,\"LMT\",\"ROD\",\"0\"]).strip('\\r\\n')\n",
    " return OrderNo\n",
    "\n",
    "#查詢帳務明細\n",
    "def QueryOrder(Keyno): \n",
    " ReturnInfo=subprocess.check_output([ExecPath+\"GetAccount.exe\",Keyno]).strip('\\r\\n')\n",
    " return ReturnInfo.split(',')\n",
    "\n",
    "#查詢總帳務明細\n",
    "def QueryAllOrder(): \n",
    " ReturnInfo=subprocess.check_output([ExecPath+\"GetAccount.exe\",\"ALL\"]).strip('\\r\\n').split('\\r\\n')\n",
    " ReturnInfo= [ line.split(',') for line in ReturnInfo]\n",
    " return ReturnInfo\n",
    "\n",
    "#查詢未平倉資訊\n",
    "def QueryOnOpen(): \n",
    " ReturnInfo=subprocess.check_output([ExecPath+\"OnOpenInterest.exe\"]).strip('\\r\\n')\n",
    " return ReturnInfo.split(',')\n",
    "\n",
    "#查詢權益數資訊\n",
    "def QueryRight(): \n",
    " ReturnInfo=subprocess.check_output([ExecPath+\"FutureRights.exe\"]).strip('\\r\\n')\n",
    " return ReturnInfo.split(',')\n",
    "\n",
    "#取消委託\n",
    "def CancelOrder(Keyno):\n",
    " ReturnInfo=subprocess.check_output([ExecPath+\"order.exe\",\"Delete\",Keyno])\n",
    " if \"cancel send\" in ReturnInfo:\n",
    "  return True\n",
    " else:\n",
    "  return False \n",
    "\n",
    "#限價轉刪單\n",
    "def LMT2DEL(Product,BS,Price,Qty,Sec):\n",
    " OrderNo=OrderLMT(Product,BS,Price,Qty)\n",
    " StartTime=time.time()\n",
    " while time.time()-StartTime<Sec:\n",
    "  ReturnInfo=QueryOrder(OrderNo)\n",
    "  if len(ReturnInfo)!=1:\n",
    "   return ReturnInfo\n",
    " CancelOrder(OrderNo)\n",
    " return False  \n",
    "\n",
    "#限價轉市價\n",
    "def LMT2MKT(Product,BS,Price,Qty,Sec):\n",
    " OrderNo=OrderLMT(Product,BS,Price,Qty)\n",
    " StartTime=time.time()\n",
    " while time.time()-StartTime<Sec:\n",
    "  ReturnInfo=QueryOrder(OrderNo)\n",
    "  if len(ReturnInfo)!=1:\n",
    "   return ReturnInfo\n",
    " if CancelOrder(OrderNo):\n",
    "  ReturnInfo=OrderMKT(Product,BS,Qty)\n",
    "  return ReturnInfo"
   ]
  }
 ],
 "metadata": {
  "kernelspec": {
   "display_name": "Python 3",
   "language": "python",
   "name": "python3"
  },
  "language_info": {
   "codemirror_mode": {
    "name": "ipython",
    "version": 3
   },
   "file_extension": ".py",
   "mimetype": "text/x-python",
   "name": "python",
   "nbconvert_exporter": "python",
   "pygments_lexer": "ipython3",
   "version": "3.6.5"
  }
 },
 "nbformat": 4,
 "nbformat_minor": 2
}
