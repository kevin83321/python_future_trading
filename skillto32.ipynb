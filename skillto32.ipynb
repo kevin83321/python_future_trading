{
 "cells": [
  {
   "cell_type": "code",
   "execution_count": 67,
   "metadata": {},
   "outputs": [
    {
     "data": {
      "text/plain": [
       "time.struct_time(tm_year=2018, tm_mon=7, tm_mday=9, tm_hour=14, tm_min=7, tm_sec=42, tm_wday=0, tm_yday=190, tm_isdst=0)"
      ]
     },
     "execution_count": 67,
     "metadata": {},
     "output_type": "execute_result"
    }
   ],
   "source": [
    "import time\n",
    "time.localtime()"
   ]
  },
  {
   "cell_type": "code",
   "execution_count": 68,
   "metadata": {},
   "outputs": [],
   "source": [
    "import pymysql"
   ]
  },
  {
   "cell_type": "code",
   "execution_count": 69,
   "metadata": {},
   "outputs": [],
   "source": [
    "I020 = [ line.strip('\\n').split(\",\") for line in open('/Users/kevin/Downloads/TickData/Futures_20170815_I020.csv') ][1:]"
   ]
  },
  {
   "cell_type": "code",
   "execution_count": 70,
   "metadata": {},
   "outputs": [],
   "source": [
    "p= [int(line[4]) for line in I020 if int(line[0])>8590000 and int(line[0])<9000000]\n",
    "q= [int(line[6]) for line in I020 if int(line[0])>8590000 and int(line[0])<9000000]"
   ]
  },
  {
   "cell_type": "code",
   "execution_count": 71,
   "metadata": {},
   "outputs": [
    {
     "name": "stdout",
     "output_type": "stream",
     "text": [
      "10309 10312 10308 10313 905\n"
     ]
    }
   ],
   "source": [
    "print(p[0],p[-1],min(p),max(p),q[-1]-q[0])"
   ]
  },
  {
   "cell_type": "code",
   "execution_count": 72,
   "metadata": {},
   "outputs": [
    {
     "name": "stdout",
     "output_type": "stream",
     "text": [
      "13450006 10307.2\n"
     ]
    }
   ],
   "source": [
    "def TimetoNumber(time):\n",
    "    time=time.zfill(8)\n",
    "    sec=int(time[:2])*360000+int(time[2:4])*6000+int(time[4:6])*100+int(time[6:8])\n",
    "    return sec\n",
    "\n",
    "MAarray = []\n",
    "MA = []\n",
    "MAValue = 0\n",
    "STime = TimetoNumber('08450000')\n",
    "Cycle = 6000\n",
    "MAlen = 10\n",
    "\n",
    "for i in I020:\n",
    "    #print(i)\n",
    "    time = i[0]\n",
    "    price = int(i[4])\n",
    "    if len(MAarray)==0:\n",
    "        MAarray+=[price]\n",
    "    else:\n",
    "        if TimetoNumber(time)<STime+Cycle:\n",
    "            MAarray[-1]=price\n",
    "        else:\n",
    "            if len(MAarray)==MAlen:\n",
    "                MAarray=MAarray[1:]+[price]\n",
    "            else:\n",
    "                MAarray+=[price]\n",
    "            STime = STime+Cycle\n",
    "    MAValue=float(sum(MAarray))/len(MAarray)\n",
    "    MA.extend([[time,MAValue]])\n",
    "\n",
    "print(time,MAValue)"
   ]
  },
  {
   "cell_type": "code",
   "execution_count": 73,
   "metadata": {},
   "outputs": [],
   "source": [
    "import pandas as pd\n",
    "ma=pd.DataFrame(MA)"
   ]
  },
  {
   "cell_type": "markdown",
   "metadata": {},
   "source": []
  },
  {
   "cell_type": "code",
   "execution_count": 75,
   "metadata": {},
   "outputs": [],
   "source": [
    "import matplotlib.pyplot as plt\n",
    "import matplotlib.dates as mdates\n",
    "import datetime"
   ]
  },
  {
   "cell_type": "code",
   "execution_count": 76,
   "metadata": {},
   "outputs": [],
   "source": [
    "Time = [datetime.datetime.strptime(line[0],\"%H%M%S%f\") for line in I020]\n",
    "Time1 = [ mdates.date2num(line) for line in Time ]\n",
    "Price = [ int(line[4]) for line in I020]"
   ]
  },
  {
   "cell_type": "code",
   "execution_count": 77,
   "metadata": {},
   "outputs": [
    {
     "data": {
      "image/png": "[encoded data removed]",
      "text/plain": [
       "<Figure size 432x288 with 1 Axes>"
      ]
     },
     "metadata": {},
     "output_type": "display_data"
    }
   ],
   "source": [
    "ax = plt.figure(1)\n",
    "ax = plt.subplot(111)"
   ]
  },
  {
   "cell_type": "code",
   "execution_count": 78,
   "metadata": {},
   "outputs": [],
   "source": [
    "#fig,ax=plt.subplots()"
   ]
  },
  {
   "cell_type": "code",
   "execution_count": 79,
   "metadata": {},
   "outputs": [
    {
     "data": {
      "text/plain": [
       "[<matplotlib.lines.Line2D at 0xa20b61080>]"
      ]
     },
     "execution_count": 79,
     "metadata": {},
     "output_type": "execute_result"
    }
   ],
   "source": [
    "ax.plot_date(Time1, Price, 'k-')"
   ]
  },
  {
   "cell_type": "code",
   "execution_count": 80,
   "metadata": {},
   "outputs": [
    {
     "data": {
      "text/plain": [
       "Text(0.5,1,'Price Line')"
      ]
     },
     "execution_count": 80,
     "metadata": {},
     "output_type": "execute_result"
    },
    {
     "data": {
      "image/png": "[encoded data removed]",
      "text/plain": [
       "<Figure size 432x288 with 1 Axes>"
      ]
     },
     "metadata": {},
     "output_type": "display_data"
    }
   ],
   "source": [
    "plt.title('Price Line')"
   ]
  },
  {
   "cell_type": "code",
   "execution_count": 81,
   "metadata": {},
   "outputs": [],
   "source": [
    "hfmt = mdates.DateFormatter('%H:%M:%S')\n",
    "ax.xaxis.set_major_formatter(hfmt)"
   ]
  },
  {
   "cell_type": "code",
   "execution_count": 82,
   "metadata": {},
   "outputs": [],
   "source": [
    "plt.show()"
   ]
  },
  {
   "cell_type": "code",
   "execution_count": 83,
   "metadata": {},
   "outputs": [
    {
     "data": {
      "text/plain": [
       "<function matplotlib.pyplot.show(*args, **kw)>"
      ]
     },
     "execution_count": 83,
     "metadata": {},
     "output_type": "execute_result"
    },
    {
     "data": {
      "image/png": "[encoded data removed]",
      "text/plain": [
       "<Figure size 432x288 with 1 Axes>"
      ]
     },
     "metadata": {},
     "output_type": "display_data"
    }
   ],
   "source": [
    "Time = [datetime.datetime.strptime(line[0],\"%H%M%S%f\") for line in I020]\n",
    "Time1 = [ mdates.date2num(line) for line in Time ]\n",
    "Price = [ int(line[4]) for line in I020]\n",
    "ax = plt.figure(1)\n",
    "ax = plt.subplot(111)\n",
    "ax.plot_date(Time1, Price, 'k-')\n",
    "plt.title('Price Line')\n",
    "hfmt = mdates.DateFormatter('%H:%M:%S')\n",
    "ax.xaxis.set_major_formatter(hfmt)\n",
    "plt.show"
   ]
  },
  {
   "cell_type": "code",
   "execution_count": 85,
   "metadata": {},
   "outputs": [
    {
     "data": {
      "image/png": "[encoded data removed]",
      "text/plain": [
       "<Figure size 432x288 with 1 Axes>"
      ]
     },
     "metadata": {},
     "output_type": "display_data"
    }
   ],
   "source": [
    "# -*- coding: UTF-8 -*-\n",
    "\n",
    "#載入相關套件及函數\n",
    "import matplotlib.pyplot as plt\n",
    "import matplotlib.dates as mdates\n",
    "import datetime\n",
    "\n",
    "#時間轉數值函數\n",
    "def TimetoNumber(time):\n",
    " time=time.zfill(8)\n",
    " sec=int(time[:2])*360000+int(time[2:4])*6000+int(time[4:6])*100+int(time[6:8])\n",
    " return sec\n",
    "\n",
    "#載入成交資訊\n",
    "I020 = [ line.strip('\\n').split(\",\") for line in open('/Users/kevin/Downloads/TickData/Futures_20170815_I020.csv')][1:]\n",
    "\n",
    "#定義MA相關變數\n",
    "MAarray = []\n",
    "MA = []\n",
    "MAValue = 0\n",
    "STime = TimetoNumber('08450000')\n",
    "Cycle = 6000\n",
    "MAlen = 10\n",
    "\n",
    "#開始進行MA計算\n",
    "for i in I020:\n",
    " time=i[0]\n",
    " price=int(i[4])\n",
    " if len(MAarray)==0:\n",
    "  MAarray+=[price]\n",
    " else:\n",
    "  if TimetoNumber(time)<STime+Cycle:\n",
    "   MAarray[-1]=price\n",
    "  else:\n",
    "   if len(MAarray)==MAlen:\n",
    "    MAarray=MAarray[1:]+[price]\n",
    "   else:\n",
    "    MAarray+=[price]   \n",
    "   STime = STime+Cycle\n",
    " MAValue=float(sum(MAarray))/len(MAarray)\n",
    " MA.extend([MAValue])\n",
    "\n",
    "#取得轉換時間字串至時間格式\n",
    "Time = [ datetime.datetime.strptime(line[0],\"%H%M%S%f\") for line in I020 ]\n",
    "#將datetime時間格式轉換為繪圖專用的時間格式，透過mdates.date2num函數\n",
    "Time1 = [ mdates.date2num(line) for line in Time ]\n",
    "#價格由字串轉數值\n",
    "Price = [ int(line[4]) for line in I020 ]\n",
    "\n",
    "#定義圖表物件\n",
    "ax = plt.figure(1) \t\t#第一張圖片              \n",
    "ax = plt.subplot(111)\t#該張圖片僅一個圖案\n",
    "#以上兩行，可簡寫如下一行\n",
    "#fig,ax = plt.subplots()\n",
    "\n",
    "#定義title\n",
    "plt.title('Price&MA Line')\n",
    "plt.xlabel('Time')\n",
    "plt.ylabel('Price')\n",
    "\n",
    "# 繪製價格折線圖\n",
    "ax.plot_date(Time1, Price, 'k-')\n",
    "# 繪製MA折線圖\n",
    "ax.plot_date(Time1, MA, 'r-')\n",
    "\n",
    "#定義x軸\n",
    "hfmt = mdates.DateFormatter('%H:%M:%S')\n",
    "ax.xaxis.set_major_formatter(hfmt)\n",
    "\n",
    "# 顯示繪製圖表\n",
    "plt.show()\n",
    "\n"
   ]
  },
  {
   "cell_type": "code",
   "execution_count": 89,
   "metadata": {},
   "outputs": [
    {
     "data": {
      "image/png": "[encoded data removed]",
      "text/plain": [
       "<Figure size 432x288 with 2 Axes>"
      ]
     },
     "metadata": {},
     "output_type": "display_data"
    }
   ],
   "source": [
    "MTime = [datetime.datetime.strptime(line[0],\"%H%M%S%f\") for line in I020]\n",
    "MTime1 = [ mdates.date2num(line) for line in MTime]\n",
    "fig = plt.figure(1)\n",
    "ax1 = fig.add_subplot(211)\n",
    "ax1.plot_date(MTime1, Price, 'b-')\n",
    "I030 = [ line.strip('\\n').split(\",\") for line in open('/Users/kevin/Downloads/TickData/Futures_20170815_I030.csv')][1:]\n",
    "I030 = [ line for line in I030 if int(line[0]) > 8450000]\n",
    "OTime = [datetime.datetime.strptime(line[0], \"%H%M%S%f\") for line in I030]\n",
    "Otime1 = [mdates.date2num(line) for line in OTime]\n",
    "Amount = [ int(line[3])-int(line[5]) for line in I030]\n",
    "ax2 = fig.add_subplot(212)\n",
    "ax2.plot_date(OTime, Amount, 'r-')\n",
    "\n",
    "hfmt = mdates.DateFormatter('%H:%M:%S')\n",
    "ax1.xaxis.set_major_formatter(hfmt)\n",
    "ax2.xaxis.set_major_formatter(hfmt)\n",
    "plt.show()"
   ]
  },
  {
   "cell_type": "code",
   "execution_count": null,
   "metadata": {},
   "outputs": [],
   "source": [
    "MTime = [datetime.datetime.strptime(line[0],\"%H%M%S%f\") for line in I020]\n",
    "MTime1 = [ mdates.date2num(line) for line in MTime]\n",
    "fig = plt.figure(1)\n",
    "ax1 = fig.add_subplot(211)\n",
    "ax1.plot_date(MTime1, Price, 'b-')\n",
    "I030 = [ line.strip('\\n').split(\",\") for line in open('/Users/kevin/Downloads/TickData/Futures_20170815_I030.csv')][1:]\n",
    "I030 = [ line for line in I030 if int(line[0]) > 8450000]\n",
    "OTime = [datetime.datetime.strptime(line[0], \"%H%M%S%f\") for line in I030]\n",
    "Otime1 = [mdates.date2num(line) for line in OTime]\n",
    "BRatio = [float(line[3])/int(line[2]) for line in I030]\n",
    "SRatio = [float(line[5])/int(line[4]) for line in I030]\n",
    "Amount = [ int(line[3])-int(line[5]) for line in I030]\n",
    "ax2 = fig.add_subplot(212)\n",
    "ax2.plot_date(OTime1, Amount, 'r-')\n",
    "\n",
    "hfmt = mdates.DateFormatter('%H:%M:%S')\n",
    "ax1.xaxis.set_major_formatter(hfmt)\n",
    "ax2.xaxis.set_major_formatter(hfmt)\n",
    "plt.show()"
   ]
  }
 ],
 "metadata": {
  "kernelspec": {
   "display_name": "Python 3",
   "language": "python",
   "name": "python3"
  },
  "language_info": {
   "codemirror_mode": {
    "name": "ipython",
    "version": 3
   },
   "file_extension": ".py",
   "mimetype": "text/x-python",
   "name": "python",
   "nbconvert_exporter": "python",
   "pygments_lexer": "ipython3",
   "version": "3.6.5"
  }
 },
 "nbformat": 4,
 "nbformat_minor": 2
}
