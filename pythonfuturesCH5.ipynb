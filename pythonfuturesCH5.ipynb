{
 "cells": [
  {
   "cell_type": "code",
   "execution_count": 1,
   "metadata": {},
   "outputs": [],
   "source": [
    "import matplotlib.pyplot as plt\n",
    "import matplotlib.dates as mdates\n",
    "import datetime\n",
    "import math\n",
    "def NumbertoTime(sec):\n",
    " TOS=str(math.floor(sec%100)).zfill(2)\n",
    " TTime=sec/100\n",
    " TS=str(math.floor(TTime%60)).zfill(2)\n",
    " TTime=TTime/60\n",
    " TM=str(math.floor(TTime%60)).zfill(2)\n",
    " TTime=TTime/60\n",
    " TH=str(math.floor(TTime%60)).zfill(2)\n",
    " return TH+TM+TS\n",
    "def TimetoNumber(time):\n",
    "    time=time.zfill(8)\n",
    "    sec=int(time[:2])*360000+int(time[2:4])*6000+int(time[4:6])*100+int(time[6:8])\n",
    "    return sec\n",
    "#I020 = [ line.strip('\\n').split(\",\") for line in open('/Users/kevin/Downloads/TickData/Futures_20170815_I020.csv')][1:]"
   ]
  },
  {
   "cell_type": "markdown",
   "metadata": {},
   "source": [
    "# 51 取得即時報價資訊"
   ]
  },
  {
   "cell_type": "code",
   "execution_count": 2,
   "metadata": {},
   "outputs": [
    {
     "ename": "FileNotFoundError",
     "evalue": "[Errno 2] No such file or directory: 'D:/data/20180710_Match.txt'",
     "output_type": "error",
     "traceback": [
      "\u001b[0;31m---------------------------------------------------------------------------\u001b[0m",
      "\u001b[0;31mFileNotFoundError\u001b[0m                         Traceback (most recent call last)",
      "\u001b[0;32m<ipython-input-2-93fa4fbaf5e6>\u001b[0m in \u001b[0;36m<module>\u001b[0;34m()\u001b[0m\n\u001b[1;32m     12\u001b[0m \u001b[0;34m\u001b[0m\u001b[0m\n\u001b[1;32m     13\u001b[0m \u001b[0;31m#開啟這三個檔案\u001b[0m\u001b[0;34m\u001b[0m\u001b[0;34m\u001b[0m\u001b[0m\n\u001b[0;32m---> 14\u001b[0;31m \u001b[0mMatchFile\u001b[0m\u001b[0;34m=\u001b[0m\u001b[0mopen\u001b[0m\u001b[0;34m(\u001b[0m\u001b[0mDataPath\u001b[0m\u001b[0;34m+\u001b[0m\u001b[0mDate\u001b[0m\u001b[0;34m+\u001b[0m\u001b[0;34m'_Match.txt'\u001b[0m\u001b[0;34m)\u001b[0m\u001b[0;34m\u001b[0m\u001b[0m\n\u001b[0m\u001b[1;32m     15\u001b[0m \u001b[0mOrderFile\u001b[0m\u001b[0;34m=\u001b[0m\u001b[0mopen\u001b[0m\u001b[0;34m(\u001b[0m\u001b[0mDataPath\u001b[0m\u001b[0;34m+\u001b[0m\u001b[0mDate\u001b[0m\u001b[0;34m+\u001b[0m\u001b[0;34m'_Commission.txt'\u001b[0m\u001b[0;34m)\u001b[0m\u001b[0;34m\u001b[0m\u001b[0m\n\u001b[1;32m     16\u001b[0m \u001b[0mUpDn5File\u001b[0m\u001b[0;34m=\u001b[0m\u001b[0mopen\u001b[0m\u001b[0;34m(\u001b[0m\u001b[0mDataPath\u001b[0m\u001b[0;34m+\u001b[0m\u001b[0mDate\u001b[0m\u001b[0;34m+\u001b[0m\u001b[0;34m'_UpDn5.txt'\u001b[0m\u001b[0;34m)\u001b[0m\u001b[0;34m\u001b[0m\u001b[0m\n",
      "\u001b[0;31mFileNotFoundError\u001b[0m: [Errno 2] No such file or directory: 'D:/data/20180710_Match.txt'"
     ]
    }
   ],
   "source": [
    "#function\n",
    "# -*- coding: UTF-8 -*-\n",
    "#載入相關套件\n",
    "import time\n",
    "import datetime\n",
    "import tailer\n",
    "\n",
    "#取得當天日期\n",
    "Date=time.strftime(\"%Y%m%d\")\n",
    "#設定檔案位置\n",
    "DataPath=\"/Users/kevin/Google 雲端硬碟/碩班/ML/\"\n",
    "\n",
    "#開啟這三個檔案\n",
    "MatchFile=open(DataPath+Date+'_Match.txt')\n",
    "OrderFile=open(DataPath+Date+'_Commission.txt')\n",
    "UpDn5File=open(DataPath+Date+'_UpDn5.txt')\n",
    "\n",
    "#持續取得成交資訊\n",
    "def getMatch():\n",
    " return tailer.follow(MatchFile,0)\n",
    "\n",
    "#持續取得委託資訊\n",
    "def getOrder():\n",
    " return tailer.follow(OrderFile,0)\n",
    "\n",
    "#持續取得上下五檔價資訊\n",
    "def getUpDn5():\n",
    " return tailer.follow(UpDn5File,0)\n",
    "\n",
    "#取得最新一筆成交資訊\n",
    "def getLastMatch():\n",
    " return tailer.tail(MatchFile,3)[-2].split(\",\")\n",
    "\n",
    "#取得最新一筆委託資訊\n",
    "def getLastOrder():\n",
    " return tailer.tail(OrderFile,3)[-2].split(\",\")\n",
    "\n",
    "#取得最新一筆上下五檔價資訊\n",
    "def getLastUpDn5():\n",
    " return tailer.tail(UpDn5File,3)[-2].split(\",\")\n",
    "\n"
   ]
  },
  {
   "cell_type": "markdown",
   "metadata": {},
   "source": [
    "# 52 計算每分鐘開高收低價"
   ]
  },
  {
   "cell_type": "code",
   "execution_count": 4,
   "metadata": {},
   "outputs": [
    {
     "ename": "KeyboardInterrupt",
     "evalue": "",
     "output_type": "error",
     "traceback": [
      "\u001b[0;31m---------------------------------------------------------------------------\u001b[0m",
      "\u001b[0;31mKeyboardInterrupt\u001b[0m                         Traceback (most recent call last)",
      "\u001b[0;32m<ipython-input-4-13a48f9869b6>\u001b[0m in \u001b[0;36m<module>\u001b[0;34m()\u001b[0m\n\u001b[1;32m     10\u001b[0m \u001b[0;34m\u001b[0m\u001b[0m\n\u001b[1;32m     11\u001b[0m \u001b[0;31m#取得成交資訊\u001b[0m\u001b[0;34m\u001b[0m\u001b[0;34m\u001b[0m\u001b[0m\n\u001b[0;32m---> 12\u001b[0;31m \u001b[0;32mfor\u001b[0m \u001b[0mi\u001b[0m \u001b[0;32min\u001b[0m \u001b[0mgetMatch\u001b[0m\u001b[0;34m(\u001b[0m\u001b[0;34m)\u001b[0m\u001b[0;34m:\u001b[0m\u001b[0;34m\u001b[0m\u001b[0m\n\u001b[0m\u001b[1;32m     13\u001b[0m   \u001b[0mMatchInfo\u001b[0m\u001b[0;34m=\u001b[0m\u001b[0mi\u001b[0m\u001b[0;34m.\u001b[0m\u001b[0msplit\u001b[0m\u001b[0;34m(\u001b[0m\u001b[0;34m','\u001b[0m\u001b[0;34m)\u001b[0m\u001b[0;34m\u001b[0m\u001b[0m\n\u001b[1;32m     14\u001b[0m   \u001b[0;31m#定義HHMM的時間字串，方便進行分鐘轉換判斷\u001b[0m\u001b[0;34m\u001b[0m\u001b[0;34m\u001b[0m\u001b[0m\n",
      "\u001b[0;32m~/anaconda3/lib/python3.6/site-packages/tailer/__init__.py\u001b[0m in \u001b[0;36mfollow\u001b[0;34m(self, delay)\u001b[0m\n\u001b[1;32m    161\u001b[0m         \u001b[0;32mwhile\u001b[0m \u001b[0;36m1\u001b[0m\u001b[0;34m:\u001b[0m\u001b[0;34m\u001b[0m\u001b[0m\n\u001b[1;32m    162\u001b[0m             \u001b[0mwhere\u001b[0m \u001b[0;34m=\u001b[0m \u001b[0mself\u001b[0m\u001b[0;34m.\u001b[0m\u001b[0mfile\u001b[0m\u001b[0;34m.\u001b[0m\u001b[0mtell\u001b[0m\u001b[0;34m(\u001b[0m\u001b[0;34m)\u001b[0m\u001b[0;34m\u001b[0m\u001b[0m\n\u001b[0;32m--> 163\u001b[0;31m             \u001b[0mline\u001b[0m \u001b[0;34m=\u001b[0m \u001b[0mself\u001b[0m\u001b[0;34m.\u001b[0m\u001b[0mfile\u001b[0m\u001b[0;34m.\u001b[0m\u001b[0mreadline\u001b[0m\u001b[0;34m(\u001b[0m\u001b[0;34m)\u001b[0m\u001b[0;34m\u001b[0m\u001b[0m\n\u001b[0m\u001b[1;32m    164\u001b[0m             \u001b[0;32mif\u001b[0m \u001b[0mline\u001b[0m\u001b[0;34m:\u001b[0m\u001b[0;34m\u001b[0m\u001b[0m\n\u001b[1;32m    165\u001b[0m                 \u001b[0;32mif\u001b[0m \u001b[0mtrailing\u001b[0m \u001b[0;32mand\u001b[0m \u001b[0mline\u001b[0m \u001b[0;32min\u001b[0m \u001b[0mself\u001b[0m\u001b[0;34m.\u001b[0m\u001b[0mline_terminators\u001b[0m\u001b[0;34m:\u001b[0m\u001b[0;34m\u001b[0m\u001b[0m\n",
      "\u001b[0;31mKeyboardInterrupt\u001b[0m: "
     ]
    }
   ],
   "source": [
    "#52\n",
    "# -*- coding: UTF-8 -*-\n",
    "\n",
    "#取得報價資訊，詳情請查看技巧51\n",
    "exec(open(\"/Users/kevin/Downloads/Strategy_Sample_Python/即時範例/function.py\").read())\n",
    "\n",
    "\n",
    "#定義指標變數\n",
    "OHLC=[]\n",
    "\n",
    "#取得成交資訊\n",
    "for i in getMatch():\t\t\n",
    "  MatchInfo=i.split(',')\n",
    "  #定義HHMM的時間字串，方便進行分鐘轉換判斷\n",
    "  HMTime=MatchInfo[0][0:2]+MatchInfo[0][3:5]\n",
    "  MatchPrice=int(MatchInfo[1])\n",
    "  #若OHLC為空，先填值\n",
    "  if len(OHLC)==0:\n",
    "   OHLC.append([HMTime,MatchPrice,MatchPrice,MatchPrice,MatchPrice])\t\n",
    "  else:\n",
    "   #進行該分鐘是否結束\t\n",
    "   if HMTime==OHLC[-1][0]:\n",
    "    #進行高、低價判斷\n",
    "    if MatchPrice>OHLC[-1][2]:\n",
    "     OHLC[-1][2]=MatchPrice\n",
    "    if MatchPrice<OHLC[-1][3]:\n",
    "     OHLC[-1][3]=MatchPrice\n",
    "    OHLC[-1][4]=MatchPrice\n",
    "   else:\n",
    "   #該分鐘結束則加入新行\n",
    "    OHLC.append([HMTime,MatchPrice,MatchPrice,MatchPrice,MatchPrice])\n",
    "  #顯示當前開高低收\n",
    "  print(OHLC[-1])"
   ]
  },
  {
   "cell_type": "markdown",
   "metadata": {},
   "source": [
    "# 53 計算每分鐘累積量"
   ]
  },
  {
   "cell_type": "code",
   "execution_count": null,
   "metadata": {},
   "outputs": [],
   "source": [
    "#53\n",
    "# -*- coding: UTF-8 -*-\n",
    "\n",
    "#取得報價資訊，詳情請查看技巧51\n",
    "exec(open(\"/Users/kevin/Downloads/Strategy_Sample_Python/即時範例/function.py\").read())\n",
    "\n",
    "#定義指標變數\n",
    "Qty=[]\n",
    "lastAmount=0\n",
    "\n",
    "#取得成交資訊\n",
    "for i in getMatch():\t\t\n",
    "  MatchInfo=i.split(',')\n",
    "  #定義HHMM的時間字串，方便進行分鐘轉換判斷\n",
    "  HMTime=MatchInfo[0][0:2]+MatchInfo[0][3:5]\n",
    "  MatchAmount=int(MatchInfo[3])\n",
    "  #進行每分鐘價格計算\n",
    "  if len(Qty)==0:\n",
    "   Qty.append([HMTime,0])\n",
    "   lastAmount=MatchAmount\n",
    "  else:\n",
    "   if HMTime==Qty[-1][0]:\n",
    "    Qty[-1][1]=MatchAmount-lastAmount\n",
    "   else:\n",
    "    Qty.append([HMTime,0])\n",
    "    lastAmount=MatchAmount\n",
    " \n",
    "  print (Qty)"
   ]
  },
  {
   "cell_type": "markdown",
   "metadata": {},
   "source": [
    "# 54 計算買賣方每筆平均成交口數"
   ]
  },
  {
   "cell_type": "code",
   "execution_count": null,
   "metadata": {},
   "outputs": [],
   "source": [
    "#54\n",
    "# -*- coding: UTF-8 -*-\n",
    "\n",
    "#取得報價資訊，詳情請查看技巧51\n",
    "#execfile('function.py')\n",
    "\n",
    "#取得成交資訊\n",
    "for i in getMatch():\t\t\n",
    "  MatchInfo=i.split(',')\n",
    "  MatchTime=MatchInfo[0]\n",
    "  MatchAmount=int(MatchInfo[3])\n",
    "  MatchBCnt=int(MatchInfo[4])\n",
    "  MatchSCnt=int(MatchInfo[5])\n",
    "\n",
    "  #進行平均買賣口計算\n",
    "  avgB=float(MatchAmount)/MatchBCnt\n",
    "  avgS=float(MatchAmount)/MatchSCnt\n",
    "  \n",
    "  print (MatchTime,\"avgB\",avgB,\"avgS\",avgS)"
   ]
  },
  {
   "cell_type": "markdown",
   "metadata": {},
   "source": [
    "# 56 計算內外盤總量"
   ]
  },
  {
   "cell_type": "code",
   "execution_count": null,
   "metadata": {},
   "outputs": [],
   "source": [
    "#56-1\n",
    "# -*- coding: UTF-8 -*-\n",
    "\n",
    "#取得報價資訊，詳情請查看技巧51\n",
    "#execfile('function.py')\n",
    "\n",
    "#定義指標變數\n",
    "OutDesk=0\n",
    "InDesk=0\n",
    "\n",
    "#取得成交資訊\n",
    "for i in getMatch():\t\t\n",
    "  MatchInfo=i.split(',')\n",
    "  MatchTime=MatchInfo[0]\n",
    "  MatchPrcie=int(MatchInfo[1])\n",
    "  MatchQty=int(MatchInfo[2])\n",
    "  #取得上下五檔價資訊\n",
    "  UpDn5Info=getLastUpDn5()\n",
    "  Dn1Price=int(UpDn5Info[1])\n",
    "  Up1Price=int(UpDn5Info[11])\n",
    "\n",
    "  #進行內外盤判斷\n",
    "  if MatchPrcie>=Up1Price:\n",
    "   OutDesk+=MatchQty\n",
    "  if MatchPrcie<=Dn1Price:\n",
    "   InDesk+=MatchQty\n",
    "   \n",
    "  print (MatchTime,\"OutDesk\",OutDesk,\"InDesk\",InDesk)"
   ]
  },
  {
   "cell_type": "code",
   "execution_count": null,
   "metadata": {},
   "outputs": [],
   "source": [
    "#56-2\n",
    "# -*- coding: UTF-8 -*-\n",
    "\n",
    "#取得報價資訊，詳情請查看技巧51\n",
    "#execfile('function.py')\n",
    "\n",
    "#定義指標變數\n",
    "OutDesk=0\n",
    "InDesk=0\n",
    "\n",
    "#取得成交資訊\n",
    "for i in getMatch():\t\t\n",
    "  MatchInfo=i.split(',')\n",
    "  MatchTime=MatchInfo[0]\n",
    "  MatchPrcie=int(MatchInfo[1])\n",
    "  #取得上下五檔價資訊\n",
    "  UpDn5Info=getLastUpDn5()\n",
    "  Dn1Price=int(UpDn5Info[1])\n",
    "  Up1Price=int(UpDn5Info[11])\n",
    "  \n",
    "  #進行內外盤判斷\n",
    "  if MatchPrcie>=Up1Price:\n",
    "   OutDesk+=1\n",
    "  if MatchPrcie<=Dn1Price:\n",
    "   InDesk+=1\n",
    "\n",
    "  print (MatchTime,\"OutDesk\",OutDesk,\"InDesk\",InDesk)"
   ]
  },
  {
   "cell_type": "markdown",
   "metadata": {},
   "source": [
    "\n",
    "# 57計算內外盤比率"
   ]
  },
  {
   "cell_type": "code",
   "execution_count": null,
   "metadata": {},
   "outputs": [],
   "source": [
    "#57\n",
    "# -*- coding: UTF-8 -*-\n",
    "\n",
    "#取得報價資訊，詳情請查看技巧51\n",
    "#execfile('function.py')\n",
    "\n",
    "#定義指標變數\n",
    "OutDesk=0\n",
    "InDesk=0\n",
    "\n",
    "#取得成交資訊\n",
    "for i in getMatch():\t\t\n",
    "  MatchInfo=i.split(',')\n",
    "  MatchTime=MatchInfo[0]\n",
    "  MatchPrcie=int(MatchInfo[1])\n",
    "  MatchQty=int(MatchInfo[2])\n",
    "  #取得上下五檔價資訊\n",
    "  UpDn5Info=getLastUpDn5()\n",
    "  Dn1Price=int(UpDn5Info[1])\n",
    "  Up1Price=int(UpDn5Info[11])\n",
    "\n",
    "  #進行內外盤判斷\n",
    "  if MatchPrcie>=Up1Price:\n",
    "   OutDesk+=MatchQty\n",
    "  if MatchPrcie<=Dn1Price:\n",
    "   InDesk+=MatchQty\n",
    "\n",
    "  #內外盤比率計算\n",
    "  OutInRatio=float(OutDesk)/(OutDesk+InDesk)\n",
    "\n",
    "  print (MatchTime,\"OutDesk Ratio\",OutInRatio)"
   ]
  },
  {
   "cell_type": "markdown",
   "metadata": {},
   "source": [
    "# 58 計算買賣方委託總量"
   ]
  },
  {
   "cell_type": "code",
   "execution_count": null,
   "metadata": {},
   "outputs": [],
   "source": [
    "#58\n",
    "# -*- coding: UTF-8 -*-\n",
    "\n",
    "#取得報價資訊，詳情請查看技巧51\n",
    "#execfile('function.py')\n",
    "\n",
    "#取得委託資訊\n",
    "for i in getOrder():\t\t\n",
    "  OrderInfo=i.split(',')\n",
    "  OrderTime=OrderInfo[0]\n",
    "  OrderBAmount=int(OrderInfo[2])\n",
    "  OrderSAmount=int(OrderInfo[4])\n",
    "\n",
    "  #委託總量相減，並顯示\n",
    "  print (OrderTime,\"diffOrder\",OrderBAmount-OrderSAmount)"
   ]
  },
  {
   "cell_type": "markdown",
   "metadata": {},
   "source": [
    "# 59 計算買賣方委託平均量"
   ]
  },
  {
   "cell_type": "code",
   "execution_count": null,
   "metadata": {},
   "outputs": [],
   "source": [
    "#59\n",
    "# -*- coding: UTF-8 -*-\n",
    "\n",
    "#取得報價資訊，詳情請查看技巧51\n",
    "#execfile('function.py')\n",
    "\n",
    "#取得委託資訊\n",
    "for i in getOrder():\t\t\n",
    "  OrderInfo=i.split(',')\n",
    "  OrderTime=OrderInfo[0]\n",
    "  OrderBCnt=int(OrderInfo[1])\n",
    "  OrderBAmount=int(OrderInfo[2])\n",
    "  OrderSCnt=int(OrderInfo[3])\n",
    "  OrderSAmount=int(OrderInfo[4])\n",
    "\n",
    "  #委託平均口數計算，並顯示\n",
    "  print (OrderTime,\"avgOrderB\",float(OrderBAmount)/OrderBCnt,\"avgOrderS\",float(OrderSAmount)/OrderSCnt)\n"
   ]
  },
  {
   "cell_type": "markdown",
   "metadata": {},
   "source": [
    "# 60 計算動態委託量變化"
   ]
  },
  {
   "cell_type": "code",
   "execution_count": null,
   "metadata": {},
   "outputs": [],
   "source": [
    "#60\n",
    "# -*- coding: UTF-8 -*-\n",
    "\n",
    "#取得報價資訊，詳情請查看技巧51\n",
    "#execfile('function.py')\n",
    "\n",
    "#定義指標變數\n",
    "lastOrderBAmount=0\n",
    "lastOrderSAmount=0\n",
    "\n",
    "#取得委託資訊\n",
    "for i in getOrder():\t\t\n",
    "  OrderInfo=i.split(',')\n",
    "  OrderTime=OrderInfo[0]\n",
    "  OrderBAmount=int(OrderInfo[2])\n",
    "  OrderSAmount=int(OrderInfo[4])\n",
    "\n",
    "  #紀錄上一筆總量資訊\n",
    "  if lastOrderBAmount==0 and lastOrderSAmount==0:\n",
    "   lastOrderBAmount=OrderBAmount\n",
    "   lastOrderSAmount=OrderSAmount\n",
    "   continue\n",
    "  else:\n",
    "   #進行計算差值\t\n",
    "   diffOrderBAmount=OrderBAmount-lastOrderBAmount\n",
    "   diffOrderSAmount=OrderSAmount-lastOrderSAmount\n",
    "   lastOrderBAmount=OrderBAmount\n",
    "   lastOrderSAmount=OrderSAmount\n",
    "\n",
    "  print (OrderTime,\"diffOrderBAmount\",diffOrderBAmount,\"diffOrderSAmount\",diffOrderSAmount)"
   ]
  },
  {
   "cell_type": "markdown",
   "metadata": {},
   "source": [
    "# 61 計算上下五檔平均成本"
   ]
  },
  {
   "cell_type": "code",
   "execution_count": null,
   "metadata": {},
   "outputs": [],
   "source": [
    "#61\n",
    "# -*- coding: UTF-8 -*-\n",
    "\n",
    "#取得報價資訊，詳情請查看技巧51\n",
    "#execfile('function.py')\n",
    "\n",
    "#取得上下五檔價量資訊\n",
    "for i in getUpDn5():\t\t\n",
    " UpDn5Info=i.split(',')\n",
    " UpDn5Time=UpDn5Info[0]\n",
    " totalUpPrice=0\n",
    " totalUpQty=0\n",
    " totalDnPrice=0\n",
    " totalDnQty=0\n",
    " \n",
    " #開始進行上下五檔加權平均值\n",
    " for j in range(0,5):\n",
    "  totalDnPrice+=int(UpDn5Info[1+2*j])*int(UpDn5Info[2+2*j])\n",
    "  totalDnQty+=int(UpDn5Info[2+2*j])\n",
    "  totalUpPrice+=int(UpDn5Info[11+2*j])*int(UpDn5Info[12+2*j])\n",
    "  totalUpQty+=int(UpDn5Info[12+2*j])\n",
    " \n",
    " print (UpDn5Time,\"avgUpPrice\",float(totalUpPrice)/totalUpQty,\"avgDnPrice\",float(totalDnPrice)/totalDnQty  )"
   ]
  },
  {
   "cell_type": "markdown",
   "metadata": {},
   "source": [
    "# 62 計算價格MA指標"
   ]
  },
  {
   "cell_type": "code",
   "execution_count": null,
   "metadata": {},
   "outputs": [],
   "source": [
    "#62\n",
    "# -*- coding: UTF-8 -*-\n",
    "\n",
    "#取得報價資訊，詳情請查看技巧51\n",
    "#execfile('function.py')\n",
    "\n",
    "#定義指標變數\n",
    "MAarray=[]\n",
    "MAnum=10\n",
    "lastHMTime=\"\"\n",
    "\n",
    "#取得成交資訊\n",
    "for i in getMatch():\t\t\n",
    " MatchInfo=i.split(',')\n",
    " #定義HHMM的時間字串，方便進行分鐘轉換判斷\n",
    " HMTime=MatchInfo[0][0:2]+MatchInfo[0][3:5]\n",
    " MatchPrice=int(MatchInfo[1])\n",
    "\n",
    " #進行MA的計算\n",
    " if len(MAarray)==0:\n",
    "  MAarray+=[MatchPrice]\n",
    "  lastHMTime=HMTime\n",
    " else:\n",
    "  if HMTime==lastHMTime:\n",
    "   MAarray[-1]=MatchPrice\n",
    "  elif HMTime!=lastHMTime:\n",
    "   if len(MAarray)<MAnum:\n",
    "    MAarray+=[MatchPrice]\n",
    "   elif len(MAarray)==MAnum:\n",
    "   \tMAarray=MAarray[1:]+[MatchPrice]\n",
    "   lastHMTime=HMTime\n",
    "\n",
    " print (HMTime,\"MAvalue\",float(sum(MAarray))/len(MAarray))"
   ]
  },
  {
   "cell_type": "markdown",
   "metadata": {},
   "source": [
    "# 63 計算量MA指標"
   ]
  },
  {
   "cell_type": "code",
   "execution_count": null,
   "metadata": {},
   "outputs": [],
   "source": [
    "#63\n",
    "# -*- coding: UTF-8 -*-\n",
    "\n",
    "#取得報價資訊，詳情請查看技巧51\n",
    "#execfile('function.py')\n",
    "\n",
    "#定義指標變數\n",
    "Qty=[]\n",
    "QMA=0\n",
    "MAnum=5\n",
    "lastHMTime=\"\"\n",
    "lastAmount=0\n",
    "\n",
    "#取得成交資訊\n",
    "for i in getMatch():\t\t\n",
    "  MatchInfo=i.split(',')\n",
    "  #定義HHMM的時間字串，方便進行分鐘轉換判斷\n",
    "  HMTime=MatchInfo[0][0:2]+MatchInfo[0][3:5]\n",
    "  MatchAmount=int(MatchInfo[3])\n",
    "  \n",
    "  #進行量MA的計算\n",
    "  if len(Qty)==0:\n",
    "   Qty+=[0]\n",
    "   lastHMTime=HMTime\n",
    "   lastAmount=MatchAmount\n",
    "  else:\n",
    "   if HMTime==lastHMTime:\n",
    "    Qty[-1]=MatchAmount-lastAmount\n",
    "   else:\n",
    "    if len(Qty)==MAnum:\n",
    "     QMA=sum(Qty)/len(Qty)\n",
    "     print QMA\n",
    "     Qty=Qty[1:]+[0]\n",
    "    else: \n",
    "     Qty+=[0]\n",
    "    lastHMTime=HMTime\n",
    "    lastAmount=MatchAmount\n",
    "  #顯示量MA\n",
    "  print (Qty)"
   ]
  },
  {
   "cell_type": "markdown",
   "metadata": {},
   "source": [
    "# 64 計算每分鐘價格變化趨勢"
   ]
  },
  {
   "cell_type": "code",
   "execution_count": null,
   "metadata": {},
   "outputs": [],
   "source": [
    "#64\n",
    "# -*- coding: UTF-8 -*-\n",
    "\n",
    "#取得報價資訊，詳情請查看技巧51\n",
    "#execfile('function.py')\n",
    "\n",
    "#定義指標變數\n",
    "closePrice=[]\n",
    "lastHMTime=\"\"\n",
    "\n",
    "#取得成交資訊\n",
    "for i in getMatch():\t\t\n",
    " MatchInfo=i.split(',')\n",
    " #定義HHMM的時間字串，方便進行分鐘轉換判斷\n",
    " HMTime=MatchInfo[0][0:2]+MatchInfo[0][3:5]\n",
    " MatchPrice=int(MatchInfo[1])\n",
    " \n",
    " #進行每分鐘收盤價計算\n",
    " if len(closePrice)==0:\n",
    "  closePrice+=[MatchPrice]\n",
    "  lastHMTime=HMTime\n",
    " else:\n",
    "  if HMTime==lastHMTime:\n",
    "   closePrice[-1]= MatchPrice\n",
    "  elif HMTime!=lastHMTime:\n",
    "   closePrice+=[MatchPrice]\n",
    "   lastHMTime=HMTime\n",
    " \n",
    " #顯示當前價\n",
    " print (\"current Price:\",closePrice[-1])"
   ]
  },
  {
   "cell_type": "markdown",
   "metadata": {},
   "source": [
    "# 65 計算固定Tick數開高低收價"
   ]
  },
  {
   "cell_type": "code",
   "execution_count": null,
   "metadata": {},
   "outputs": [],
   "source": [
    "#65\n",
    "# -*- coding: UTF-8 -*-\n",
    "\n",
    "#取得報價資訊，詳情請查看技巧51\n",
    "#execfile('function.py')\n",
    "\n",
    "#定義指標變數\n",
    "TickMA200=[]\n",
    "TickOHLC=[]\n",
    "\n",
    "#取得成交資訊\n",
    "for i in getMatch():\t\t\n",
    " MatchInfo=i.split(',')\n",
    " MatchTime=MatchInfo[0]\n",
    " MatchPrice=int(MatchInfo[1])\n",
    " \n",
    " #將Tick相加\n",
    " TickMA200+=[MatchPrice]\n",
    " \n",
    " #當tick200筆時，進行開高低收統計\n",
    " if len(TickMA200)==200:\n",
    "  TickOHLC+=[[MatchTime,TickMA200[0],max(TickMA200),min(TickMA200),TickMA200[-1]]]\n",
    "  TickMA200=[]\n",
    "  print (TickOHLC[-1])"
   ]
  },
  {
   "cell_type": "markdown",
   "metadata": {},
   "source": [
    "# 66 計算大戶指標"
   ]
  },
  {
   "cell_type": "code",
   "execution_count": null,
   "metadata": {},
   "outputs": [],
   "source": [
    "#66\n",
    "# -*- coding: UTF-8 -*-\n",
    "\n",
    "#取得報價資訊，詳情請查看技巧51\n",
    "#execfile('function.py')\n",
    "\n",
    "#定義指標變數\n",
    "lastBcnt=0\n",
    "lastScnt=0\n",
    "accB=0\n",
    "accS=0\n",
    "\n",
    "#取得成交資訊\n",
    "for i in getMatch():\t\t\n",
    " MatchInfo=i.split(',')\n",
    " MatchTime=MatchInfo[0]\n",
    " MatchPrice=int(MatchInfo[1])\n",
    " MatchQty=int(MatchInfo[2])\n",
    " MatchBcnt=int(MatchInfo[4])\n",
    " MatchScnt=int(MatchInfo[5])\n",
    " \n",
    " #儲存上一筆最新總筆數 \n",
    " if lastBcnt==0 and lastScnt==0:\n",
    "  lastBcnt=MatchBcnt\n",
    "  lastScnt=MatchScnt\n",
    " else:\n",
    "  #計算相差筆數\t\n",
    "  diffBcnt=MatchBcnt-lastBcnt\n",
    "  diffScnt=MatchScnt-lastScnt\n",
    "  #進行數量判斷\n",
    "  if MatchQty>=10:\n",
    "   #進行買賣方判斷\n",
    "   if diffBcnt==1 and diffScnt>1:\n",
    "    accB+=MatchQty\n",
    "    print (MatchTime,MatchPrice,MatchQty,0,accB,accS)\n",
    "   elif diffScnt==1 and diffBcnt>1:\n",
    "    accS+=MatchQty\n",
    "    print (MatchTime,MatchPrice,0,MatchQty,accB,accS)\n",
    "\n",
    " lastBcnt=MatchBcnt\n",
    " lastScnt=MatchScnt"
   ]
  },
  {
   "cell_type": "code",
   "execution_count": null,
   "metadata": {},
   "outputs": [],
   "source": []
  }
 ],
 "metadata": {
  "kernelspec": {
   "display_name": "Python 3",
   "language": "python",
   "name": "python3"
  },
  "language_info": {
   "codemirror_mode": {
    "name": "ipython",
    "version": 3
   },
   "file_extension": ".py",
   "mimetype": "text/x-python",
   "name": "python",
   "nbconvert_exporter": "python",
   "pygments_lexer": "ipython3",
   "version": "3.6.5"
  }
 },
 "nbformat": 4,
 "nbformat_minor": 2
}
